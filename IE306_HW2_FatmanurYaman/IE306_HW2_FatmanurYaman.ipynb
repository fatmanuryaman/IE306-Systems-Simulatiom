{
 "cells": [
  {
   "cell_type": "code",
   "execution_count": 1,
   "metadata": {},
   "outputs": [],
   "source": [
    "import numpy as np\n",
    "class Simulation:\n",
    "    def __init__(self, random_number_list,time):\n",
    "\n",
    "        self.i = 0 #i for counting the index of the random_number_list\n",
    "        self.random_number_list = random_number_list #random list given in the question\n",
    "        self.time = time #the time limit\n",
    "\n",
    "        self.num_in_first = 1 #number of the people in Server 1\n",
    "        self.num_in_second = 0 #number of the people in Server 2\n",
    "        self.num_in_q = 0 #number of the people in the queue\n",
    "\n",
    "        self.clock = 0\n",
    "        self.t_arrival = self.generate_interarrival() #generate the first arrival\n",
    "        self.t_departure_first = self.generate_service_first() #generate the first departure in Server 1\n",
    "        self.t_departure_second = float('inf') #Server 2 is idle.\n",
    "\n",
    "        self.t_service_first = 0 #service time of Service 1\n",
    "        self.t_service_second = 0 #service time of Service 2\n",
    "\n",
    "        self.num_arrivals = 0 #number of arrivals\n",
    "        self.num_departs = 0 #number of departures\n",
    "        self.total_wait = 0 #total waiting time of the people\n",
    "        self.total_spent = 0 #total time spent in the system of people\n",
    "        self.no_wait = 0\n",
    "        self.avg_num_cust = 0 #average number of people im the system\n",
    "        self.avg_wait = 0 #average waiting time\n",
    "        self.first_server_usage = 0 #time of the service given by Service 1\n",
    "        self.second_server_usage = 0 #time of the service given by Service 2\n",
    "        self.first_server_util = 0 #utilization of Server 1\n",
    "        self.second_server_util = 0 #utilization of Server 2\n",
    "\n",
    "\n",
    "    def simul(self):\n",
    "        while self.clock <= self.time: \n",
    "            t_event = min(self.t_arrival, self.t_departure_first, self.t_departure_second)\n",
    "            #the time for the decision(departure or arrival)\n",
    "            if self.num_in_q == 0:\n",
    "                self.no_wait += (t_event - self.clock)\n",
    "            \n",
    "            self.total_spent += (self.num_in_q + self.num_in_first + self.num_in_second)*(t_event - self.clock) #total time spent\n",
    "            self.first_server_usage += (t_event - self.clock)*self.num_in_first #updates the usage time of Server 1\n",
    "            self.second_server_usage += (t_event - self.clock)*self.num_in_second #updates the usage time of Server 2\n",
    "            self.total_wait += self.num_in_q*(t_event - self.clock) #updates the total waiting times\n",
    "            if self.time == 35:\n",
    "                print('Arrival: ' + str(self.t_arrival) + '\\n' +\n",
    "                      'Departure 1: ' + str(self.t_departure_first) + '\\n' +\n",
    "                      'Departure 2: ' + str(self.t_departure_second) + '\\n')\n",
    "\n",
    "            self.clock = t_event #jumps when the new event occurs\n",
    "\n",
    "            self.first_server_util = self.first_server_usage / self.clock #updates the utilization of Server 1\n",
    "            self.second_server_util = self.second_server_usage / self.clock #updates the utilization of Server 2\n",
    "            self.avg_wait = self.total_wait / self.clock #calculates average waiting time\n",
    "            self.avg_num_cust = self.total_spent/self.clock #calculates the average  number of people in the system\n",
    "\n",
    "            #Determining what to do next:\n",
    "            #If the minimum is arrival, the arrival event occurs.\n",
    "            if t_event == self.t_arrival:\n",
    "                self.handle_arrival_event()\n",
    "            #If the minimum is departure, the departure will occur and the server will be idle(inf).\n",
    "            if t_event == self.t_departure_second:\n",
    "                self.t_departure_second = float('inf')\n",
    "            if t_event == self.t_departure_first:\n",
    "                self.t_departure_first = float('inf')\n",
    "            \n",
    "            #the number of the people in each server\n",
    "            #This indicates whether the server is idle or not.\n",
    "            if self.t_departure_first == float('inf'):\n",
    "                self.num_in_first = 0\n",
    "            else:\n",
    "                self.num_in_first = 1\n",
    "\n",
    "            if self.t_departure_second == float('inf'):\n",
    "                self.num_in_second = 0\n",
    "            else:\n",
    "                self.num_in_second = 1\n",
    "\n",
    "        return self.write_results() #Write the results when the time is being exceeded.\n",
    "\n",
    "\n",
    "    def handle_arrival_event(self):\n",
    "        self.num_arrivals += 1 #increase the number of arrivals\n",
    "\n",
    "        self.t_arrival = self.clock + self.generate_interarrival() #generate the next interarrival and arrival time\n",
    "\n",
    "        #The if loop below determines whether the server is idle or not, then chooses the appropriote one.\n",
    "        if self.t_departure_first == float('inf') and self.t_departure_second == float('inf'):\n",
    "            #If both servers are idle, choose Server 1.\n",
    "            return self.handle_departure_event_first()\n",
    "        if self.t_departure_first != float('inf') and self.t_departure_second == float('inf'):\n",
    "            return self.handle_departure_event_second()\n",
    "        if self.t_departure_first == float('inf') and self.t_departure_second != float('inf'):\n",
    "            return self.handle_departure_event_first()\n",
    "        if self.t_departure_first != float('inf') and self.t_departure_second != float('inf'):\n",
    "            #If both servers are busy, increment the numbers of the people in the queue by one.\n",
    "            self.num_in_q += 1\n",
    "\n",
    "    def handle_departure_event_first(self):\n",
    "        self.num_departs += 1 #increase the number of departures\n",
    "        self.t_departure_first = self.clock + self.generate_service_first() #generate the departure time\n",
    "        if self.num_in_q >= 1:\n",
    "            self.num_in_q -= 1 #decrease the number of the people in the queue since it is departure\n",
    "        return self.t_departure_first\n",
    "\n",
    "    def handle_departure_event_second(self):\n",
    "        self.num_departs += 1\n",
    "        self.t_departure_second = self.clock + self.generate_service_second() #generate the departure time\n",
    "        if self.num_in_q >= 1:\n",
    "            self.num_in_q -= 1 #decrease the number of the people in the queue since it is departure\n",
    "        return self.t_departure_second\n",
    "\n",
    "    def generate_interarrival(self):\n",
    "        self.t_interarrival =  self.random_number_list[self.i]*10+6 #generates the interarrival times by U(6,16)\n",
    "        self.i += 1\n",
    "        return self.t_interarrival\n",
    "\n",
    "\n",
    "    def generate_service_first(self):\n",
    "        self.t_service_first = self.random_number_list[self.i]*7+14 #generates the service times for Server 1 by U(14,21)\n",
    "        self.i += 1\n",
    "        return self.t_service_first\n",
    "\n",
    "    def generate_service_second(self): #generates the service times for Server 2 by using the CDF's of the given distirbution\n",
    "        if self.random_number_list[self.i] <= 0.18:\n",
    "            self.t_service_second =  8\n",
    "            self.i += 1\n",
    "        elif 0.18 < self.random_number_list[self.i] <= 0.48:\n",
    "            self.t_service_second = 12\n",
    "            self.i += 1\n",
    "        elif 0.48 < self.random_number_list[self.i] <= 0.78:\n",
    "            self.t_service_second = 22\n",
    "            self.i += 1\n",
    "        elif 0.78 < self.random_number_list[self.i] <=1:\n",
    "            self.t_service_second = 33\n",
    "            self.i += 1\n",
    "\n",
    "        return self.t_service_second\n",
    "\n",
    "    def write_results(self):\n",
    "        if self.time <= self.clock:\n",
    "            print('Average Time Spent In The Queue: ' + str(self.avg_wait) + '\\n'+\n",
    "            'The Average Number of Customer In The System: ' + str(self.avg_num_cust) +'\\n'+\n",
    "            'The Average Utilization of Server 1: ' + str(self.first_server_util) +'\\n'+\n",
    "            'The Average Utilization of Server 2: ' + str(self.second_server_util)+ '\\n' +\n",
    "            'The Possibility of a Customer Not Waiting In The Queue: '+ str(self.no_wait/self.clock) + '\\n')"
   ]
  },
  {
   "cell_type": "code",
   "execution_count": 2,
   "metadata": {},
   "outputs": [
    {
     "name": "stdout",
     "output_type": "stream",
     "text": [
      "Arrival: 9.8\n",
      "Departure 1: 17.472\n",
      "Departure 2: inf\n",
      "\n",
      "Arrival: 24.12\n",
      "Departure 1: 17.472\n",
      "Departure 2: 21.8\n",
      "\n",
      "Arrival: 24.12\n",
      "Departure 1: inf\n",
      "Departure 2: 21.8\n",
      "\n",
      "Arrival: 24.12\n",
      "Departure 1: inf\n",
      "Departure 2: inf\n",
      "\n",
      "Arrival: 30.32\n",
      "Departure 1: 41.480000000000004\n",
      "Departure 2: inf\n",
      "\n",
      "Arrival: 46.07\n",
      "Departure 1: 41.480000000000004\n",
      "Departure 2: 52.32\n",
      "\n",
      "Average Time Spent In The Queue: 0.0\n",
      "The Average Number of Customer In The System: 1.3980713596914176\n",
      "The Average Utilization of Server 1: 0.8397299903567985\n",
      "The Average Utilization of Server 2: 0.5583413693346191\n",
      "The Possibility of a Customer Not Waiting In The Queue: 1.0\n",
      "\n"
     ]
    }
   ],
   "source": [
    "random_number_list = [0.38, 0.496, 0.832, 0.391, 0.020, 0.480, 0.975, 0.759, 0.905, 0.593, 0.560]\n",
    "s = Simulation(random_number_list,35)\n",
    "s.simul()"
   ]
  },
  {
   "cell_type": "code",
   "execution_count": 3,
   "metadata": {},
   "outputs": [
    {
     "name": "stdout",
     "output_type": "stream",
     "text": [
      "Average Time Spent In The Queue: 10.984344468479993\n",
      "The Average Number of Customer In The System: 12.076708687456954\n",
      "The Average Utilization of Server 1: 0.6317668076110214\n",
      "The Average Utilization of Server 2: 0.46059741136593496\n",
      "The Possibility of a Customer Not Waiting In The Queue: 0.16242291377615908\n",
      "\n"
     ]
    }
   ],
   "source": [
    "seed_1 = list(np.random.randn(10000))\n",
    "s1 = Simulation(seed_1,7000)\n",
    "s1.simul()"
   ]
  },
  {
   "cell_type": "code",
   "execution_count": 4,
   "metadata": {},
   "outputs": [
    {
     "name": "stdout",
     "output_type": "stream",
     "text": [
      "Average Time Spent In The Queue: 22.324195690214758\n",
      "The Average Number of Customer In The System: 23.39509280275036\n",
      "The Average Utilization of Server 1: 0.6344001212231585\n",
      "The Average Utilization of Server 2: 0.43649699131245906\n",
      "The Possibility of a Customer Not Waiting In The Queue: 0.10053294926669847\n",
      "\n"
     ]
    }
   ],
   "source": [
    "seed_2 = list(np.random.randn(10000))\n",
    "s2 = Simulation(seed_2,7000)\n",
    "s2.simul()"
   ]
  },
  {
   "cell_type": "code",
   "execution_count": 5,
   "metadata": {},
   "outputs": [
    {
     "name": "stdout",
     "output_type": "stream",
     "text": [
      "Average Time Spent In The Queue: 9.706868128457241\n",
      "The Average Number of Customer In The System: 10.826138650496729\n",
      "The Average Utilization of Server 1: 0.6354980924466792\n",
      "The Average Utilization of Server 2: 0.4837724295928371\n",
      "The Possibility of a Customer Not Waiting In The Queue: 0.11175033640814977\n",
      "\n"
     ]
    }
   ],
   "source": [
    "seed_3 = list(np.random.randn(10000))\n",
    "s3 = Simulation(seed_3,7000)\n",
    "s3.simul()"
   ]
  },
  {
   "cell_type": "code",
   "execution_count": 6,
   "metadata": {},
   "outputs": [
    {
     "name": "stdout",
     "output_type": "stream",
     "text": [
      "Average Time Spent In The Queue: 8.60151767054128\n",
      "The Average Number of Customer In The System: 9.703734721925208\n",
      "The Average Utilization of Server 1: 0.6490421078258277\n",
      "The Average Utilization of Server 2: 0.4531749435580918\n",
      "The Possibility of a Customer Not Waiting In The Queue: 0.2364244580616939\n",
      "\n"
     ]
    }
   ],
   "source": [
    "seed_4 = list(np.random.randn(10000))\n",
    "s4 = Simulation(seed_4,7000)\n",
    "s4.simul()\n"
   ]
  },
  {
   "cell_type": "code",
   "execution_count": 7,
   "metadata": {},
   "outputs": [
    {
     "data": {
      "text/plain": [
       "995"
      ]
     },
     "execution_count": 7,
     "metadata": {},
     "output_type": "execute_result"
    }
   ],
   "source": [
    "s4.num_arrivals"
   ]
  },
  {
   "cell_type": "code",
   "execution_count": 8,
   "metadata": {},
   "outputs": [
    {
     "data": {
      "text/plain": [
       "67964.15919549279"
      ]
     },
     "execution_count": 8,
     "metadata": {},
     "output_type": "execute_result"
    }
   ],
   "source": [
    "s4.total_spent"
   ]
  },
  {
   "cell_type": "code",
   "execution_count": 9,
   "metadata": {},
   "outputs": [
    {
     "data": {
      "text/plain": [
       "9.703734721925208"
      ]
     },
     "execution_count": 9,
     "metadata": {},
     "output_type": "execute_result"
    }
   ],
   "source": [
    "s4.avg_num_cust"
   ]
  },
  {
   "cell_type": "code",
   "execution_count": 10,
   "metadata": {},
   "outputs": [
    {
     "data": {
      "text/plain": [
       "9.703734721925207"
      ]
     },
     "execution_count": 10,
     "metadata": {},
     "output_type": "execute_result"
    }
   ],
   "source": [
    "(s4.num_arrivals/s4.clock) * (s4.total_spent/s4.num_arrivals)"
   ]
  },
  {
   "cell_type": "code",
   "execution_count": null,
   "metadata": {},
   "outputs": [],
   "source": []
  }
 ],
 "metadata": {
  "kernelspec": {
   "display_name": "Python 3",
   "language": "python",
   "name": "python3"
  },
  "language_info": {
   "codemirror_mode": {
    "name": "ipython",
    "version": 3
   },
   "file_extension": ".py",
   "mimetype": "text/x-python",
   "name": "python",
   "nbconvert_exporter": "python",
   "pygments_lexer": "ipython3",
   "version": "3.8.5"
  }
 },
 "nbformat": 4,
 "nbformat_minor": 4
}
