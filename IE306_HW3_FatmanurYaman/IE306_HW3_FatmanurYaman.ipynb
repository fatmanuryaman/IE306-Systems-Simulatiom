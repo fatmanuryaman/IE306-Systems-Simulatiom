{
 "cells": [
  {
   "cell_type": "code",
   "execution_count": null,
   "metadata": {},
   "outputs": [],
   "source": [
    "import numpy as np\n",
    "import seaborn as sns"
   ]
  },
  {
   "cell_type": "code",
   "execution_count": 2,
   "metadata": {},
   "outputs": [],
   "source": [
    "normal_dist  = []\n",
    "for i in range(500):\n",
    "    normal_dist.append(5*sum(np.random.uniform(0,1,12))+20) #sums the batches of uniform dist random variates in size 12"
   ]
  },
  {
   "cell_type": "code",
   "execution_count": 3,
   "metadata": {
    "scrolled": true
   },
   "outputs": [
    {
     "data": {
      "text/plain": [
       "<AxesSubplot:ylabel='Count'>"
      ]
     },
     "execution_count": 3,
     "metadata": {},
     "output_type": "execute_result"
    },
    {
     "data": {
      "image/png": "[encoded data removed]",
      "text/plain": [
       "<Figure size 432x288 with 1 Axes>"
      ]
     },
     "metadata": {
      "needs_background": "light"
     },
     "output_type": "display_data"
    }
   ],
   "source": [
    "sns.histplot(normal_dist, kde = True)"
   ]
  },
  {
   "cell_type": "code",
   "execution_count": 4,
   "metadata": {},
   "outputs": [],
   "source": [
    "import scipy.stats\n",
    "x = 0\n",
    "boundaries = []\n",
    "while x <= 1:\n",
    "    boundaries.append(scipy.stats.norm(50,25).ppf(x))\n",
    "    x += 0.05"
   ]
  },
  {
   "cell_type": "markdown",
   "metadata": {},
   "source": [
    "# The boundaries of the N(50,25) with 0.05 pdf:"
   ]
  },
  {
   "cell_type": "code",
   "execution_count": 5,
   "metadata": {},
   "outputs": [
    {
     "data": {
      "text/plain": [
       "[-inf,\n",
       " 8.878659326213182,\n",
       " 17.96121086138499,\n",
       " 24.089165262655253,\n",
       " 28.959469160677145,\n",
       " 33.13775624509796,\n",
       " 36.88998718229898,\n",
       " 40.3669883398108,\n",
       " 43.666322421605,\n",
       " 46.858466328623145,\n",
       " 50.0,\n",
       " 53.14153367137685,\n",
       " 56.33367757839499,\n",
       " 59.6330116601892,\n",
       " 63.110012817701026,\n",
       " 66.86224375490205,\n",
       " 71.04053083932287,\n",
       " 75.91083473734476,\n",
       " 82.03878913861504,\n",
       " 91.12134067378688]"
      ]
     },
     "execution_count": 5,
     "metadata": {},
     "output_type": "execute_result"
    }
   ],
   "source": [
    "boundaries"
   ]
  },
  {
   "cell_type": "markdown",
   "metadata": {},
   "source": [
    "# The observed frequencies are;"
   ]
  },
  {
   "cell_type": "code",
   "execution_count": 6,
   "metadata": {},
   "outputs": [
    {
     "data": {
      "text/plain": [
       "[0, 0, 0, 0, 0, 2, 13, 33, 81, 114, 122, 86, 39, 9, 1, 0, 0, 0, 0, 0]"
      ]
     },
     "execution_count": 6,
     "metadata": {},
     "output_type": "execute_result"
    }
   ],
   "source": [
    "observed_list = []\n",
    "for i in range(len(boundaries)):\n",
    "    observed_freq = 0 \n",
    "    for k in normal_dist:\n",
    "        if boundaries[i] < k and k <= boundaries[i+1]:\n",
    "            observed_freq += 1\n",
    "    observed_list.append(observed_freq)\n",
    "observed_list"
   ]
  },
  {
   "cell_type": "markdown",
   "metadata": {},
   "source": [
    "# The expected frequencies are;"
   ]
  },
  {
   "cell_type": "code",
   "execution_count": 7,
   "metadata": {},
   "outputs": [],
   "source": [
    "expected_list = []\n",
    "for i in range(len(boundaries)):\n",
    "    expected_list.append(25)"
   ]
  },
  {
   "cell_type": "markdown",
   "metadata": {},
   "source": [
    "# (expected-observed)^2/(expected)"
   ]
  },
  {
   "cell_type": "code",
   "execution_count": 8,
   "metadata": {},
   "outputs": [],
   "source": [
    "difference = []\n",
    "for i in range(len(boundaries)):\n",
    "    difference.append(((observed_list[i] - expected_list[i])**2)/expected_list[i])"
   ]
  },
  {
   "cell_type": "markdown",
   "metadata": {},
   "source": [
    "# The test statictics;"
   ]
  },
  {
   "cell_type": "code",
   "execution_count": 9,
   "metadata": {},
   "outputs": [
    {
     "data": {
      "text/plain": [
       "1288.08"
      ]
     },
     "execution_count": 9,
     "metadata": {},
     "output_type": "execute_result"
    }
   ],
   "source": [
    "sum(difference)"
   ]
  }
 ],
 "metadata": {
  "kernelspec": {
   "display_name": "Python 3",
   "language": "python",
   "name": "python3"
  },
  "language_info": {
   "codemirror_mode": {
    "name": "ipython",
    "version": 3
   },
   "file_extension": ".py",
   "mimetype": "text/x-python",
   "name": "python",
   "nbconvert_exporter": "python",
   "pygments_lexer": "ipython3",
   "version": "3.8.5"
  }
 },
 "nbformat": 4,
 "nbformat_minor": 4
}
